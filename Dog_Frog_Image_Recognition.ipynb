{
  "nbformat": 4,
  "nbformat_minor": 0,
  "metadata": {
    "colab": {
      "name": "Dog Frog Image Recognition.ipynb",
      "provenance": [],
      "collapsed_sections": [],
      "authorship_tag": "ABX9TyOwjzxoeivpL0ibZzhohKzG",
      "include_colab_link": true
    },
    "kernelspec": {
      "name": "python3",
      "display_name": "Python 3"
    }
  },
  "cells": [
    {
      "cell_type": "markdown",
      "metadata": {
        "id": "view-in-github",
        "colab_type": "text"
      },
      "source": [
        "<a href=\"https://colab.research.google.com/github/gabelim/DL_Image_classification_explore/blob/main/Dog_Frog_Image_Recognition.ipynb\" target=\"_parent\"><img src=\"https://colab.research.google.com/assets/colab-badge.svg\" alt=\"Open In Colab\"/></a>"
      ]
    },
    {
      "cell_type": "code",
      "metadata": {
        "colab": {
          "base_uri": "https://localhost:8080/"
        },
        "id": "T-04Rx_dFU4y",
        "outputId": "fc57962f-8328-49bd-b100-4fe28b0f6b1f"
      },
      "source": [
        "%tensorflow_version 2.x  # this line is not required unless you are in a notebook\n",
        "import tensorflow as tf\n",
        "\n",
        "from tensorflow.keras import datasets, layers, models\n",
        "import matplotlib.pyplot as plt\n",
        "\n",
        "import os\n",
        "# from google.colab import drive\n",
        "# drive.mount('/content')\n"
      ],
      "execution_count": 25,
      "outputs": [
        {
          "output_type": "stream",
          "name": "stdout",
          "text": [
            "`%tensorflow_version` only switches the major version: 1.x or 2.x.\n",
            "You set: `2.x  # this line is not required unless you are in a notebook`. This will be interpreted as: `2.x`.\n",
            "\n",
            "\n",
            "TensorFlow is already loaded. Please restart the runtime to change versions.\n"
          ]
        }
      ]
    },
    {
      "cell_type": "markdown",
      "metadata": {
        "id": "0OFlvYUnZbbY"
      },
      "source": [
        "Create data set of dogs and frogs with bing-image-downloader"
      ]
    },
    {
      "cell_type": "code",
      "metadata": {
        "colab": {
          "base_uri": "https://localhost:8080/"
        },
        "id": "MCVCRMpVOqhP",
        "outputId": "f95a0fa1-f784-4ca5-ff7a-8242360135e7"
      },
      "source": [
        "!pip install bing-image-downloader"
      ],
      "execution_count": 2,
      "outputs": [
        {
          "output_type": "stream",
          "name": "stdout",
          "text": [
            "Looking in indexes: https://pypi.org/simple, https://us-python.pkg.dev/colab-wheels/public/simple/\n",
            "Collecting bing-image-downloader\n",
            "  Downloading bing_image_downloader-1.1.2-py3-none-any.whl (5.9 kB)\n",
            "Installing collected packages: bing-image-downloader\n",
            "Successfully installed bing-image-downloader-1.1.2\n"
          ]
        }
      ]
    },
    {
      "cell_type": "code",
      "metadata": {
        "id": "CfE2czVdFfHw"
      },
      "source": [
        "from bing_image_downloader import downloader"
      ],
      "execution_count": 3,
      "outputs": []
    },
    {
      "cell_type": "code",
      "metadata": {
        "id": "U4qZ9ywDFq-M"
      },
      "source": [
        "downloader.download('frogs', limit=50, output_dir='images/train')"
      ],
      "execution_count": null,
      "outputs": []
    },
    {
      "cell_type": "code",
      "metadata": {
        "id": "6ViRYU0nGIex"
      },
      "source": [
        "downloader.download('dog', limit=50, output_dir='images/train')"
      ],
      "execution_count": null,
      "outputs": []
    },
    {
      "cell_type": "markdown",
      "metadata": {
        "id": "qgyv4pyuZ0MW"
      },
      "source": [
        "Make test directory and transfer 10 images into it from train."
      ]
    },
    {
      "cell_type": "code",
      "metadata": {
        "id": "kBMb2osGL8l-"
      },
      "source": [
        "# !mkdir /images/test/dog\n",
        "# !mkdir /images/test/frogs\n",
        "\n",
        "\n",
        "# !pwd\n",
        "!mv /content/images/train/dog/Image_{41..50}* /content/images/test/dogs\n",
        "!mv /content/images/train/frogs/Image_{41..50}* /content/images/test/frogs"
      ],
      "execution_count": null,
      "outputs": []
    },
    {
      "cell_type": "markdown",
      "metadata": {
        "id": "89jN-efEbVeQ"
      },
      "source": [
        "Sequential model. Other model is Functional"
      ]
    },
    {
      "cell_type": "code",
      "metadata": {
        "id": "gjsM83EaLaps"
      },
      "source": [
        "from keras.models import Sequential\n",
        "from keras.layers import Conv2D,MaxPooling2D,Dense,Flatten,Dropout,Activation\n",
        "import numpy as np\n",
        "import matplotlib.pyplot as plt\n",
        "#CNN with 3 convo blocks, fully connected layer at the end\n",
        "\n",
        "model = Sequential()\n",
        "model.add(Conv2D(32,(3,3),input_shape=(64,64,3))) \n",
        "#2D convo layer, 32 filters - size 3x3, input_image 64x64, 3 RGB\n",
        "#pixel intensity 0-255 populate each element in 64,64,3 \n",
        "#feature maps are output\n",
        "model.add(Activation('relu'))\n",
        "#relu activation function: defines output of neuron give an input\n",
        "model.add(MaxPooling2D(pool_size =(2,2)))\n",
        "#pooling layer does dimensionality reduction for each feature map\n",
        "\n",
        "model.add(Conv2D(32,(3,3))) \n",
        "model.add(Activation('relu'))\n",
        "model.add(MaxPooling2D(pool_size =(2,2)))\n",
        "model.add(Conv2D(32,(3,3))) \n",
        "model.add(Activation('relu'))\n",
        "model.add(MaxPooling2D(pool_size =(2,2)))\n",
        "\n",
        "#dropout layer:prevents overfitting\n",
        "model.add(Flatten()) #flatten feature map to 1D\n",
        "model.add(Dense(64))# initialize fully connected network\n",
        "model.add(Activation('relu')) \n",
        "model.add(Dropout(0.5)) # dropout layer\n",
        "model.add(Dense(1)) #initialize another fully connected layer and output n-dimensional vector to the number of classes\n",
        "model.add(Activation('sigmoid'))\n",
        "\n",
        "model.compile(optimizer ='rmsprop',   #perform gradient descent\n",
        "                   loss ='binary_crossentropy', #best loss function for binary classification\n",
        "                   metrics =['accuracy'])"
      ],
      "execution_count": 39,
      "outputs": []
    },
    {
      "cell_type": "code",
      "metadata": {
        "colab": {
          "base_uri": "https://localhost:8080/"
        },
        "id": "gYwmsqvMTmax",
        "outputId": "cbda0aee-ac69-426d-9774-5f781838357b"
      },
      "source": [
        "#data augmentation - flip tilt zoom image : prevent overfitting\n",
        "\n",
        "from keras.preprocessing.image import ImageDataGenerator\n",
        "train_datagen = ImageDataGenerator(rescale =1./255,\n",
        "                                   shear_range =0.2,\n",
        "                                   zoom_range = 0.2,\n",
        "                                   horizontal_flip =True)\n",
        "test_datagen = ImageDataGenerator(rescale = 1./255)\n",
        "\n",
        "#set train and test data locations using flow_from_directory\n",
        "training_set = train_datagen.flow_from_directory('images/train',\n",
        "                                                target_size=(64,64),\n",
        "                                                batch_size= 32,\n",
        "                                                class_mode='binary')\n",
        "\n",
        "test_set = test_datagen.flow_from_directory('images/test',\n",
        "                                           target_size = (64,64),\n",
        "                                           batch_size = 32,\n",
        "                                           class_mode ='binary')"
      ],
      "execution_count": 50,
      "outputs": [
        {
          "output_type": "stream",
          "name": "stdout",
          "text": [
            "Found 80 images belonging to 3 classes.\n",
            "Found 20 images belonging to 3 classes.\n"
          ]
        }
      ]
    },
    {
      "cell_type": "code",
      "metadata": {
        "colab": {
          "base_uri": "https://localhost:8080/"
        },
        "id": "ytk1wVnTUv1Y",
        "outputId": "55e22576-1e80-4d3c-e3f9-0bda2a4566d5"
      },
      "source": [
        "model.summary()"
      ],
      "execution_count": 51,
      "outputs": [
        {
          "output_type": "stream",
          "name": "stdout",
          "text": [
            "Model: \"sequential_1\"\n",
            "_________________________________________________________________\n",
            " Layer (type)                Output Shape              Param #   \n",
            "=================================================================\n",
            " conv2d_3 (Conv2D)           (None, 62, 62, 32)        896       \n",
            "                                                                 \n",
            " activation_5 (Activation)   (None, 62, 62, 32)        0         \n",
            "                                                                 \n",
            " max_pooling2d_3 (MaxPooling  (None, 31, 31, 32)       0         \n",
            " 2D)                                                             \n",
            "                                                                 \n",
            " conv2d_4 (Conv2D)           (None, 29, 29, 32)        9248      \n",
            "                                                                 \n",
            " activation_6 (Activation)   (None, 29, 29, 32)        0         \n",
            "                                                                 \n",
            " max_pooling2d_4 (MaxPooling  (None, 14, 14, 32)       0         \n",
            " 2D)                                                             \n",
            "                                                                 \n",
            " conv2d_5 (Conv2D)           (None, 12, 12, 32)        9248      \n",
            "                                                                 \n",
            " activation_7 (Activation)   (None, 12, 12, 32)        0         \n",
            "                                                                 \n",
            " max_pooling2d_5 (MaxPooling  (None, 6, 6, 32)         0         \n",
            " 2D)                                                             \n",
            "                                                                 \n",
            " flatten_1 (Flatten)         (None, 1152)              0         \n",
            "                                                                 \n",
            " dense_2 (Dense)             (None, 64)                73792     \n",
            "                                                                 \n",
            " activation_8 (Activation)   (None, 64)                0         \n",
            "                                                                 \n",
            " dropout_1 (Dropout)         (None, 64)                0         \n",
            "                                                                 \n",
            " dense_3 (Dense)             (None, 1)                 65        \n",
            "                                                                 \n",
            " activation_9 (Activation)   (None, 1)                 0         \n",
            "                                                                 \n",
            "=================================================================\n",
            "Total params: 93,249\n",
            "Trainable params: 93,249\n",
            "Non-trainable params: 0\n",
            "_________________________________________________________________\n"
          ]
        }
      ]
    },
    {
      "cell_type": "code",
      "metadata": {
        "colab": {
          "base_uri": "https://localhost:8080/"
        },
        "id": "TeIN_9cpUELr",
        "outputId": "eec6e63e-6f05-4afe-ca6d-7869cc51f859"
      },
      "source": [
        "from IPython.display import display\n",
        "from PIL import Image\n",
        "model.fit(training_set,\n",
        "                        epochs = 5,\n",
        "                        validation_data =test_set)"
      ],
      "execution_count": 52,
      "outputs": [
        {
          "output_type": "stream",
          "name": "stdout",
          "text": [
            "Epoch 1/5\n",
            "3/3 [==============================] - 3s 923ms/step - loss: -3336.6128 - accuracy: 0.5000 - val_loss: -5166.8975 - val_accuracy: 0.5000\n",
            "Epoch 2/5\n",
            "3/3 [==============================] - 2s 777ms/step - loss: -6041.4819 - accuracy: 0.5000 - val_loss: -9074.2324 - val_accuracy: 0.5000\n",
            "Epoch 3/5\n",
            "3/3 [==============================] - 2s 1s/step - loss: -11005.3252 - accuracy: 0.5000 - val_loss: -14984.7285 - val_accuracy: 0.5000\n",
            "Epoch 4/5\n",
            "3/3 [==============================] - 2s 845ms/step - loss: -18070.0430 - accuracy: 0.5000 - val_loss: -23688.3398 - val_accuracy: 0.5000\n",
            "Epoch 5/5\n",
            "3/3 [==============================] - 2s 913ms/step - loss: -29615.4492 - accuracy: 0.5000 - val_loss: -34700.4258 - val_accuracy: 0.5000\n"
          ]
        },
        {
          "output_type": "execute_result",
          "data": {
            "text/plain": [
              "<keras.callbacks.History at 0x7fa3763b48d0>"
            ]
          },
          "metadata": {},
          "execution_count": 52
        }
      ]
    },
    {
      "cell_type": "code",
      "metadata": {
        "colab": {
          "base_uri": "https://localhost:8080/"
        },
        "id": "r1-ahHauXDOX",
        "outputId": "f2ec5403-35d4-4dfc-892a-92b3b0c7987d"
      },
      "source": [
        "test_loss, test_acc = model.evaluate(test_set, verbose=2)\n",
        "print(test_acc)"
      ],
      "execution_count": 53,
      "outputs": [
        {
          "output_type": "stream",
          "name": "stdout",
          "text": [
            "1/1 - 0s - loss: -3.4700e+04 - accuracy: 0.5000 - 475ms/epoch - 475ms/step\n",
            "0.5\n"
          ]
        }
      ]
    },
    {
      "cell_type": "code",
      "source": [
        "%matplotlib inline\n",
        "\n",
        "import matplotlib.pyplot as plt\n",
        "import matplotlib.image as mpimg"
      ],
      "metadata": {
        "id": "68XqYhAjpvkX"
      },
      "execution_count": 45,
      "outputs": []
    },
    {
      "cell_type": "code",
      "metadata": {
        "id": "743xIY8wXvxs"
      },
      "source": [
        "import numpy as np\n",
        "from keras.preprocessing import image\n",
        "test_image =image.load_img('images/test/dogs/Image_49.jpg',target_size =(64,64))\n",
        "\n",
        "test_image =image.img_to_array(test_image)\n",
        "test_image =np.expand_dims(test_image, axis =0)\n",
        "result = model.predict(test_image)\n",
        "if result[0][0] >= 0.5:\n",
        "    prediction = 'dog'\n",
        "else:\n",
        "    prediction = 'frog'\n",
        "print(prediction)"
      ],
      "execution_count": null,
      "outputs": []
    },
    {
      "cell_type": "code",
      "metadata": {
        "id": "OY3_yZob0mXq"
      },
      "source": [
        ""
      ],
      "execution_count": null,
      "outputs": []
    }
  ]
}